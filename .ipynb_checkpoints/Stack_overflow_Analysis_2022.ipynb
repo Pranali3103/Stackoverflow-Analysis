{
 "cells": [
  {
   "cell_type": "markdown",
   "id": "9489ad4b-69a4-4c3a-b279-425a4085f2a5",
   "metadata": {},
   "source": [
    "## Stackoverflow_Survey_Analysis-With filtered and null values filled data-2022"
   ]
  },
  {
   "cell_type": "markdown",
   "id": "54673875-84f1-498c-b7db-b2314630b26b",
   "metadata": {},
   "source": [
    "# Introduction\n",
    "Stack overflow is a professional community for developers. They conduct developer surveys every year since 2011. The collected data is available open-source on the web. The Dataset would help us to answer real-world questions with the help of proper analysis. The most popular language that developers use can be found through the analysis. We also can find the developer role which pays the highest salary. The aim of our project is to analyze the 2018,2019 , 2020 , 2021 and 2022 developer surveys datasets from where we collect valuable insights from them."
   ]
  },
  {
   "cell_type": "code",
   "execution_count": 2,
   "id": "7f8739dd-1902-42bf-a0c9-a5c94112291f",
   "metadata": {},
   "outputs": [],
   "source": [
    "import numpy as np\n",
    "import pandas as pd\n",
    "import matplotlib.pyplot as plt\n",
    "%matplotlib inline\n",
    "import seaborn as sns\n",
    "import warnings; \n",
    "warnings.simplefilter('ignore')\n",
    "import pycountry\n",
    "import plotly.express as px\n",
    "import matplotlib.patches as mpatches\n",
    "from sklearn.model_selection import train_test_split\n",
    "from sklearn.preprocessing import LabelEncoder\n",
    "from sklearn import preprocessing\n",
    "from sklearn.tree import DecisionTreeClassifier\n",
    "from sklearn.metrics import accuracy_score, precision_score, recall_score, f1_score\n",
    "from sklearn.metrics import r2_score\n",
    "from sklearn.linear_model import LogisticRegression\n",
    "from sklearn.naive_bayes import GaussianNB\n",
    "from sklearn.naive_bayes import MultinomialNB\n",
    "from sklearn.ensemble import RandomForestClassifier\n",
    "from sklearn.neural_network import MLPClassifier\n",
    "from sklearn.model_selection import StratifiedKFold\n",
    "from sklearn.svm import LinearSVC\n",
    "import time\n",
    "from sklearn.metrics import hamming_loss\n",
    "from sklearn.metrics import jaccard_score\n",
    "from sklearn.linear_model import SGDClassifier\n",
    "from sklearn.multiclass import OneVsRestClassifier\n",
    "from sklearn.ensemble import RandomForestRegressor\n",
    "from sklearn.model_selection import GridSearchCV\n",
    "from sklearn.metrics import accuracy_score\n"
   ]
  },
  {
   "cell_type": "code",
   "execution_count": 3,
   "id": "1fde797a-0b98-4cf7-8d93-22fc9725ba29",
   "metadata": {},
   "outputs": [
    {
     "data": {
      "text/html": [
       "<div>\n",
       "<style scoped>\n",
       "    .dataframe tbody tr th:only-of-type {\n",
       "        vertical-align: middle;\n",
       "    }\n",
       "\n",
       "    .dataframe tbody tr th {\n",
       "        vertical-align: top;\n",
       "    }\n",
       "\n",
       "    .dataframe thead th {\n",
       "        text-align: right;\n",
       "    }\n",
       "</style>\n",
       "<table border=\"1\" class=\"dataframe\">\n",
       "  <thead>\n",
       "    <tr style=\"text-align: right;\">\n",
       "      <th></th>\n",
       "      <th>ResponseId</th>\n",
       "      <th>MainBranch</th>\n",
       "      <th>Employment</th>\n",
       "      <th>RemoteWork</th>\n",
       "      <th>CodingActivities</th>\n",
       "      <th>EdLevel</th>\n",
       "      <th>LearnCode</th>\n",
       "      <th>LearnCodeOnline</th>\n",
       "      <th>LearnCodeCoursesCert</th>\n",
       "      <th>YearsCode</th>\n",
       "      <th>...</th>\n",
       "      <th>TimeSearching</th>\n",
       "      <th>TimeAnswering</th>\n",
       "      <th>Onboarding</th>\n",
       "      <th>ProfessionalTech</th>\n",
       "      <th>TrueFalse_1</th>\n",
       "      <th>TrueFalse_2</th>\n",
       "      <th>TrueFalse_3</th>\n",
       "      <th>SurveyLength</th>\n",
       "      <th>SurveyEase</th>\n",
       "      <th>ConvertedCompYearly</th>\n",
       "    </tr>\n",
       "  </thead>\n",
       "  <tbody>\n",
       "    <tr>\n",
       "      <th>0</th>\n",
       "      <td>1</td>\n",
       "      <td>None of these</td>\n",
       "      <td>NaN</td>\n",
       "      <td>NaN</td>\n",
       "      <td>NaN</td>\n",
       "      <td>NaN</td>\n",
       "      <td>NaN</td>\n",
       "      <td>NaN</td>\n",
       "      <td>NaN</td>\n",
       "      <td>NaN</td>\n",
       "      <td>...</td>\n",
       "      <td>NaN</td>\n",
       "      <td>NaN</td>\n",
       "      <td>NaN</td>\n",
       "      <td>NaN</td>\n",
       "      <td>NaN</td>\n",
       "      <td>NaN</td>\n",
       "      <td>NaN</td>\n",
       "      <td>NaN</td>\n",
       "      <td>NaN</td>\n",
       "      <td>NaN</td>\n",
       "    </tr>\n",
       "    <tr>\n",
       "      <th>1</th>\n",
       "      <td>2</td>\n",
       "      <td>I am a developer by profession</td>\n",
       "      <td>Employed, full-time</td>\n",
       "      <td>Fully remote</td>\n",
       "      <td>Hobby;Contribute to open-source projects</td>\n",
       "      <td>NaN</td>\n",
       "      <td>NaN</td>\n",
       "      <td>NaN</td>\n",
       "      <td>NaN</td>\n",
       "      <td>NaN</td>\n",
       "      <td>...</td>\n",
       "      <td>NaN</td>\n",
       "      <td>NaN</td>\n",
       "      <td>NaN</td>\n",
       "      <td>NaN</td>\n",
       "      <td>NaN</td>\n",
       "      <td>NaN</td>\n",
       "      <td>NaN</td>\n",
       "      <td>Too long</td>\n",
       "      <td>Difficult</td>\n",
       "      <td>NaN</td>\n",
       "    </tr>\n",
       "    <tr>\n",
       "      <th>2</th>\n",
       "      <td>3</td>\n",
       "      <td>I am not primarily a developer, but I write co...</td>\n",
       "      <td>Employed, full-time</td>\n",
       "      <td>Hybrid (some remote, some in-person)</td>\n",
       "      <td>Hobby</td>\n",
       "      <td>Master’s degree (M.A., M.S., M.Eng., MBA, etc.)</td>\n",
       "      <td>Books / Physical media;Friend or family member...</td>\n",
       "      <td>Technical documentation;Blogs;Programming Game...</td>\n",
       "      <td>NaN</td>\n",
       "      <td>14</td>\n",
       "      <td>...</td>\n",
       "      <td>NaN</td>\n",
       "      <td>NaN</td>\n",
       "      <td>NaN</td>\n",
       "      <td>NaN</td>\n",
       "      <td>NaN</td>\n",
       "      <td>NaN</td>\n",
       "      <td>NaN</td>\n",
       "      <td>Appropriate in length</td>\n",
       "      <td>Neither easy nor difficult</td>\n",
       "      <td>40205.0</td>\n",
       "    </tr>\n",
       "  </tbody>\n",
       "</table>\n",
       "<p>3 rows × 79 columns</p>\n",
       "</div>"
      ],
      "text/plain": [
       "   ResponseId                                         MainBranch  \\\n",
       "0           1                                      None of these   \n",
       "1           2                     I am a developer by profession   \n",
       "2           3  I am not primarily a developer, but I write co...   \n",
       "\n",
       "            Employment                            RemoteWork  \\\n",
       "0                  NaN                                   NaN   \n",
       "1  Employed, full-time                          Fully remote   \n",
       "2  Employed, full-time  Hybrid (some remote, some in-person)   \n",
       "\n",
       "                           CodingActivities  \\\n",
       "0                                       NaN   \n",
       "1  Hobby;Contribute to open-source projects   \n",
       "2                                     Hobby   \n",
       "\n",
       "                                           EdLevel  \\\n",
       "0                                              NaN   \n",
       "1                                              NaN   \n",
       "2  Master’s degree (M.A., M.S., M.Eng., MBA, etc.)   \n",
       "\n",
       "                                           LearnCode  \\\n",
       "0                                                NaN   \n",
       "1                                                NaN   \n",
       "2  Books / Physical media;Friend or family member...   \n",
       "\n",
       "                                     LearnCodeOnline LearnCodeCoursesCert  \\\n",
       "0                                                NaN                  NaN   \n",
       "1                                                NaN                  NaN   \n",
       "2  Technical documentation;Blogs;Programming Game...                  NaN   \n",
       "\n",
       "  YearsCode  ... TimeSearching TimeAnswering Onboarding ProfessionalTech  \\\n",
       "0       NaN  ...           NaN           NaN        NaN              NaN   \n",
       "1       NaN  ...           NaN           NaN        NaN              NaN   \n",
       "2        14  ...           NaN           NaN        NaN              NaN   \n",
       "\n",
       "  TrueFalse_1 TrueFalse_2 TrueFalse_3           SurveyLength  \\\n",
       "0         NaN         NaN         NaN                    NaN   \n",
       "1         NaN         NaN         NaN               Too long   \n",
       "2         NaN         NaN         NaN  Appropriate in length   \n",
       "\n",
       "                   SurveyEase ConvertedCompYearly  \n",
       "0                         NaN                 NaN  \n",
       "1                   Difficult                 NaN  \n",
       "2  Neither easy nor difficult             40205.0  \n",
       "\n",
       "[3 rows x 79 columns]"
      ]
     },
     "execution_count": 3,
     "metadata": {},
     "output_type": "execute_result"
    }
   ],
   "source": [
    "df2022 = pd.read_csv('survey_results_public_2022.csv')\n",
    "df2022.head(3)"
   ]
  },
  {
   "cell_type": "code",
   "execution_count": 4,
   "id": "d35e7fc2-30ac-4bad-893b-26623fb97f9e",
   "metadata": {},
   "outputs": [
    {
     "data": {
      "text/plain": [
       "(73268, 79)"
      ]
     },
     "execution_count": 4,
     "metadata": {},
     "output_type": "execute_result"
    }
   ],
   "source": [
    "df2022.shape"
   ]
  },
  {
   "cell_type": "code",
   "execution_count": 5,
   "id": "3a2111e3-55d8-4bdd-91b6-24af317d0436",
   "metadata": {},
   "outputs": [
    {
     "name": "stdout",
     "output_type": "stream",
     "text": [
      "['ResponseId', 'MainBranch', 'Employment', 'RemoteWork', 'CodingActivities', 'EdLevel', 'LearnCode', 'LearnCodeOnline', 'LearnCodeCoursesCert', 'YearsCode', 'YearsCodePro', 'DevType', 'OrgSize', 'PurchaseInfluence', 'BuyNewTool', 'Country', 'Currency', 'CompTotal', 'CompFreq', 'LanguageHaveWorkedWith', 'LanguageWantToWorkWith', 'DatabaseHaveWorkedWith', 'DatabaseWantToWorkWith', 'PlatformHaveWorkedWith', 'PlatformWantToWorkWith', 'WebframeHaveWorkedWith', 'WebframeWantToWorkWith', 'MiscTechHaveWorkedWith', 'MiscTechWantToWorkWith', 'ToolsTechHaveWorkedWith', 'ToolsTechWantToWorkWith', 'NEWCollabToolsHaveWorkedWith', 'NEWCollabToolsWantToWorkWith', 'OpSysProfessional use', 'OpSysPersonal use', 'VersionControlSystem', 'VCInteraction', 'VCHostingPersonal use', 'VCHostingProfessional use', 'OfficeStackAsyncHaveWorkedWith', 'OfficeStackAsyncWantToWorkWith', 'OfficeStackSyncHaveWorkedWith', 'OfficeStackSyncWantToWorkWith', 'Blockchain', 'NEWSOSites', 'SOVisitFreq', 'SOAccount', 'SOPartFreq', 'SOComm', 'Age', 'Gender', 'Trans', 'Sexuality', 'Ethnicity', 'Accessibility', 'MentalHealth', 'TBranch', 'ICorPM', 'WorkExp', 'Knowledge_1', 'Knowledge_2', 'Knowledge_3', 'Knowledge_4', 'Knowledge_5', 'Knowledge_6', 'Knowledge_7', 'Frequency_1', 'Frequency_2', 'Frequency_3', 'TimeSearching', 'TimeAnswering', 'Onboarding', 'ProfessionalTech', 'TrueFalse_1', 'TrueFalse_2', 'TrueFalse_3', 'SurveyLength', 'SurveyEase', 'ConvertedCompYearly']\n"
     ]
    }
   ],
   "source": [
    "column_names = df2022.columns.tolist()\n",
    "print(column_names)"
   ]
  },
  {
   "cell_type": "code",
   "execution_count": 6,
   "id": "26a0327f-5aab-4c4f-8bbe-3a99ec4c096f",
   "metadata": {},
   "outputs": [
    {
     "name": "stdout",
     "output_type": "stream",
     "text": [
      "ResponseId        0\n",
      "MainBranch        0\n",
      "Employment     1559\n",
      "RemoteWork    14310\n",
      "Gender         2415\n",
      "dtype: int64\n"
     ]
    }
   ],
   "source": [
    "# When axis=1, it operates along the rows of the DataFrame.\n",
    "# When axis=0, it operates along the columns of the DataFrame.\n",
    "\n",
    "# df2022 is our DataFrame\n",
    "columns_of_interest = ['ResponseId', 'MainBranch', 'Employment', 'RemoteWork', 'Gender']\n",
    "\n",
    "# Select columns of interest\n",
    "df= df2022[columns_of_interest]\n",
    "\n",
    "# Count null values in each column\n",
    "null_counts =df.isnull().sum()\n",
    "\n",
    "print(null_counts)\n"
   ]
  },
  {
   "cell_type": "code",
   "execution_count": 7,
   "id": "2be3b614-5009-44e5-aa7a-a1ee15720a19",
   "metadata": {},
   "outputs": [
    {
     "name": "stdout",
     "output_type": "stream",
     "text": [
      "ResponseId     int64\n",
      "MainBranch    object\n",
      "Employment    object\n",
      "RemoteWork    object\n",
      "Gender        object\n",
      "dtype: object\n"
     ]
    }
   ],
   "source": [
    "# selected_columms=df2022[columns_of_interest]\n",
    "print(df.dtypes)\n",
    "# print(datatype_of_columns)"
   ]
  },
  {
   "cell_type": "markdown",
   "id": "d3c81be9-bb5f-46cd-84c6-20edb197c509",
   "metadata": {},
   "source": [
    "## Data Validation - Total Cells vs Missing %"
   ]
  },
  {
   "cell_type": "code",
   "execution_count": 8,
   "id": "8139c938-9a53-4b46-8d73-57b5d385bece",
   "metadata": {},
   "outputs": [
    {
     "name": "stdout",
     "output_type": "stream",
     "text": [
      "Total :  366340\n",
      "Total missing :  18284\n",
      "Missing Percentage:  4.990991974668341 %\n"
     ]
    }
   ],
   "source": [
    "#Find % of missing data\n",
    "missing_count = df.isnull().sum() #number of missing\n",
    "total_cells = np.product(df.shape) # number of cells (cols x rows)\n",
    "total_missing = missing_count.sum()\n",
    "missing_percent = (total_missing*100)/total_cells\n",
    "\n",
    "print('Total : ', total_cells)\n",
    "print('Total missing : ', total_missing)\n",
    "print('Missing Percentage: ', missing_percent, '%')"
   ]
  },
  {
   "cell_type": "markdown",
   "id": "aa01d33f-8953-4be4-910c-8047cb5b7c10",
   "metadata": {},
   "source": [
    "### We can ignore this percentage of null values , but still we'll fill null values"
   ]
  },
  {
   "cell_type": "code",
   "execution_count": 16,
   "id": "56c1fde1-585c-48dc-892a-c5748b0eddb9",
   "metadata": {},
   "outputs": [],
   "source": [
    "#Gender filling null values "
   ]
  },
  {
   "cell_type": "code",
   "execution_count": 10,
   "id": "a45ff685-76ad-4bb1-95b6-8b92c574551e",
   "metadata": {},
   "outputs": [
    {
     "name": "stdout",
     "output_type": "stream",
     "text": [
      "0        Man\n",
      "1        Man\n",
      "2        Man\n",
      "3        Man\n",
      "4        Man\n",
      "        ... \n",
      "73263    Man\n",
      "73264    Man\n",
      "73265    Man\n",
      "73266    Man\n",
      "73267    Man\n",
      "Name: Gender, Length: 73268, dtype: object\n"
     ]
    }
   ],
   "source": [
    "import pandas as pd\n",
    "\n",
    "# Assuming df is your DataFrame\n",
    "mode_gender = df['Gender'].mode()[0]  # Calculate the mode of the 'Gender' column\n",
    "df['Gender'].fillna(mode_gender, inplace=True)  # Fill missing values with the mode\n",
    "\n",
    "print(df['Gender'])\n"
   ]
  },
  {
   "cell_type": "code",
   "execution_count": 11,
   "id": "2b0a286b-0d42-4963-8680-b45973061fe9",
   "metadata": {},
   "outputs": [
    {
     "name": "stdout",
     "output_type": "stream",
     "text": [
      "0        Man\n",
      "1        Man\n",
      "2        Man\n",
      "3        Man\n",
      "4        Man\n",
      "        ... \n",
      "73263    Man\n",
      "73264    Man\n",
      "73265    Man\n",
      "73266    Man\n",
      "73267    Man\n",
      "Name: Gender, Length: 73268, dtype: object\n"
     ]
    }
   ],
   "source": [
    "print(df['Gender'])"
   ]
  },
  {
   "cell_type": "code",
   "execution_count": 12,
   "id": "403e0afb-731b-4051-9b2f-560dea8081b6",
   "metadata": {},
   "outputs": [
    {
     "name": "stdout",
     "output_type": "stream",
     "text": [
      "0\n"
     ]
    }
   ],
   "source": [
    "print(df['Gender'].isnull().sum())"
   ]
  },
  {
   "cell_type": "code",
   "execution_count": 16,
   "id": "13a36381-0c5e-4be1-a5f3-01a57e3a4bab",
   "metadata": {},
   "outputs": [
    {
     "name": "stdout",
     "output_type": "stream",
     "text": [
      "Man: 67022\n",
      "Or, in your own words:: 279\n",
      "Woman: 3399\n",
      "Non-binary, genderqueer, or gender non-conforming: 704\n",
      "Prefer not to say: 1172\n",
      "Man;Non-binary, genderqueer, or gender non-conforming: 235\n",
      "Or, in your own words:;Non-binary, genderqueer, or gender non-conforming: 14\n",
      "Woman;Non-binary, genderqueer, or gender non-conforming: 160\n",
      "Man;Woman: 24\n",
      "Man;Or, in your own words:: 171\n",
      "Or, in your own words:;Woman;Non-binary, genderqueer, or gender non-conforming: 15\n",
      "Man;Woman;Non-binary, genderqueer, or gender non-conforming: 31\n",
      "Or, in your own words:;Woman: 13\n",
      "Man;Or, in your own words:;Woman;Non-binary, genderqueer, or gender non-conforming: 18\n",
      "Man;Or, in your own words:;Non-binary, genderqueer, or gender non-conforming: 9\n",
      "Man;Or, in your own words:;Woman: 2\n"
     ]
    }
   ],
   "source": [
    "# Get unique gender categories\n",
    "unique_genders = df['Gender'].unique()\n",
    "\n",
    "# Create a dictionary to store gender categories and their counts\n",
    "gender_counts = {}\n",
    "\n",
    "# Count occurrences of each gender category\n",
    "for gender in unique_genders:\n",
    "    count = (df['Gender'] == gender).sum()\n",
    "    gender_counts[gender] = count\n",
    "\n",
    "# Print manually listed form of gender categories and their counts\n",
    "for gender, count in gender_counts.items():\n",
    "    print(f\"{gender}: {count}\")\n"
   ]
  },
  {
   "cell_type": "code",
   "execution_count": 25,
   "id": "9d70053d-a8a0-4746-a416-7e2caeb1df89",
   "metadata": {},
   "outputs": [
    {
     "name": "stdout",
     "output_type": "stream",
     "text": [
      "['Man' 'Or, in your own words:' 'Woman' 'Non-conforming'\n",
      " 'Prefer not to say'\n",
      " 'Man;Non-binary, genderqueer, or gender non-conforming'\n",
      " 'Or, in your own words:;Non-binary, genderqueer, or gender non-conforming'\n",
      " 'Woman;Non-binary, genderqueer, or gender non-conforming' 'Man;Woman'\n",
      " 'Man;Or, in your own words:'\n",
      " 'Or, in your own words:;Woman;Non-binary, genderqueer, or gender non-conforming'\n",
      " 'Man;Woman;Non-binary, genderqueer, or gender non-conforming'\n",
      " 'Or, in your own words:;Woman'\n",
      " 'Man;Or, in your own words:;Woman;Non-binary, genderqueer, or gender non-conforming'\n",
      " 'Man;Or, in your own words:;Non-binary, genderqueer, or gender non-conforming'\n",
      " 'Man;Or, in your own words:;Woman']\n"
     ]
    }
   ],
   "source": [
    "# Get unique values in the 'Gender' column\n",
    "unique_genders = df['Gender'].unique()\n",
    "\n",
    "# Print unique gender categories\n",
    "print(unique_genders)\n"
   ]
  },
  {
   "cell_type": "code",
   "execution_count": 26,
   "id": "98d8c93d-cff5-4e9c-bcd3-b8345b13e97d",
   "metadata": {},
   "outputs": [
    {
     "data": {
      "image/png": "[encoded data removed]",
      "text/plain": [
       "<Figure size 640x480 with 1 Axes>"
      ]
     },
     "metadata": {},
     "output_type": "display_data"
    }
   ],
   "source": [
    "import pandas as pd\n",
    "import matplotlib.pyplot as plt\n",
    "\n",
    "# Map the provided categories to broader categories\n",
    "mapping = {\n",
    "    'Man': 'Male',\n",
    "    'Woman': 'Female',\n",
    "    'Non-conforming': 'Non-binary, genderqueer, or gender non-conforming',\n",
    "    'Prefer not to say': 'Prefer not to say',\n",
    "    'Man;Non-binary, genderqueer, or gender non-conforming': 'Non-binary, genderqueer, or gender non-conforming',\n",
    "    'Or, in your own words:;Non-binary, genderqueer, or gender non-conforming': 'Non-binary, genderqueer, or gender non-conforming',\n",
    "    'Woman;Non-binary, genderqueer, or gender non-conforming': 'Non-binary, genderqueer, or gender non-conforming',\n",
    "    'Man;Woman': 'Other',\n",
    "    'Man;Or, in your own words:': 'Other',\n",
    "    'Or, in your own words:;Woman;Non-binary, genderqueer, or gender non-conforming': 'Other',\n",
    "    'Man;Woman;Non-binary, genderqueer, or gender non-conforming': 'Other',\n",
    "    'Or, in your own words:;Woman': 'Other',\n",
    "    'Man;Or, in your own words:;Woman;Non-binary, genderqueer, or gender non-conforming': 'Other',\n",
    "    'Man;Or, in your own words:;Non-binary, genderqueer, or gender non-conforming': 'Other',\n",
    "    'Man;Or, in your own words:;Woman': 'Other'\n",
    "}\n",
    "\n",
    "# Apply the mapping to the 'Gender' column\n",
    "df['Gender'] = df['Gender'].map(mapping)\n",
    "\n",
    "# Count the frequency of each gender category\n",
    "gender_counts = df['Gender'].value_counts()\n",
    "\n",
    "# Create a pie chart\n",
    "plt.pie(gender_counts.values, labels=gender_counts.index, autopct='%1.1f%%', startangle=90, wedgeprops=dict(width=0.4))\n",
    "\n",
    "# Add a circle at the center to make it a donut chart\n",
    "centre_circle = plt.Circle((0,0),0.70,fc='white')\n",
    "fig = plt.gcf()\n",
    "fig.gca().add_artist(centre_circle)\n",
    "\n",
    "# Add title\n",
    "plt.title('Gender Distribution')\n",
    "\n",
    "# Equal aspect ratio ensures that pie is drawn as a circle\n",
    "plt.axis('equal')\n",
    "\n",
    "# Show plot\n",
    "plt.show()\n"
   ]
  },
  {
   "cell_type": "code",
   "execution_count": 32,
   "id": "057a0b87-07cc-4b8b-b79b-358abd07bc78",
   "metadata": {},
   "outputs": [
    {
     "data": {
      "image/png": "[encoded data removed]",
      "text/plain": [
       "<Figure size 640x480 with 1 Axes>"
      ]
     },
     "metadata": {},
     "output_type": "display_data"
    }
   ],
   "source": [
    "import pandas as pd\n",
    "import matplotlib.pyplot as plt\n",
    "\n",
    "# Sample DataFrame (Replace this with your DataFrame)\n",
    "data = {\n",
    "    'Gender': ['Man', 'Or, in your own words:', 'Woman', 'Non-conforming', 'Prefer not to say',\n",
    "               'Man;Non-binary, genderqueer, or gender non-conforming',\n",
    "               'Or, in your own words:;Non-binary, genderqueer, or gender non-conforming',\n",
    "               'Woman;Non-binary, genderqueer, or gender non-conforming', 'Man;Woman',\n",
    "               'Man;Or, in your own words:', 'Or, in your own words:;Woman;Non-binary, genderqueer, or gender non-conforming',\n",
    "               'Man;Woman;Non-binary, genderqueer, or gender non-conforming',\n",
    "               'Or, in your own words:;Woman',\n",
    "               'Man;Or, in your own words:;Woman;Non-binary, genderqueer, or gender non-conforming',\n",
    "               'Man;Or, in your own words:;Non-binary, genderqueer, or gender non-conforming',\n",
    "               'Man;Or, in your own words:;Woman']\n",
    "}\n",
    "df = pd.DataFrame(data)\n",
    "\n",
    "# Map the provided categories to broader categories\n",
    "mapping = {\n",
    "    'Man': 'Male',\n",
    "    'Woman': 'Female',\n",
    "    'Non-conforming': 'Non-binary, genderqueer, or gender non-conforming',\n",
    "    'Prefer not to say': 'Prefer not to say',\n",
    "    'Man;Non-binary, genderqueer, or gender non-conforming': 'Non-binary, genderqueer, or gender non-conforming',\n",
    "    'Or, in your own words:;Non-binary, genderqueer, or gender non-conforming': 'Non-binary, genderqueer, or gender non-conforming',\n",
    "    'Woman;Non-binary, genderqueer, or gender non-conforming': 'Non-binary, genderqueer, or gender non-conforming',\n",
    "    'Female;Male': 'Female',\n",
    "    'Female;Male;Transgender': 'Female',\n",
    "    'Female;Transgender': 'Female',\n",
    "    'Male;Transgender': 'Female',\n",
    "    'Non-binary, genderqueer, or gender non-conforming': 'Non-binary, genderqueer, or gender non-conforming',\n",
    "    'Transgender': 'Male'\n",
    "}\n",
    "\n",
    "# Apply the mapping to the 'Gender' column\n",
    "df['Gender'] = df['Gender'].map(mapping)\n",
    "\n",
    "# Count the frequency of each gender category\n",
    "gender_counts = df['Gender'].value_counts()\n",
    "\n",
    "# Create a pie chart\n",
    "plt.pie(gender_counts.values, labels=gender_counts.index, autopct='%1.1f%%', startangle=90)\n",
    "\n",
    "# Add title\n",
    "plt.title('Simplified Gender Distribution')\n",
    "\n",
    "# Equal aspect ratio ensures that pie is drawn as a circle\n",
    "plt.axis('equal')\n",
    "\n",
    "# Show plot\n",
    "plt.show()\n"
   ]
  },
  {
   "cell_type": "code",
   "execution_count": null,
   "id": "0081f3f9-0738-4b07-abca-978aaeea287f",
   "metadata": {},
   "outputs": [],
   "source": []
  }
 ],
 "metadata": {
  "kernelspec": {
   "display_name": "Python 3 (ipykernel)",
   "language": "python",
   "name": "python3"
  },
  "language_info": {
   "codemirror_mode": {
    "name": "ipython",
    "version": 3
   },
   "file_extension": ".py",
   "mimetype": "text/x-python",
   "name": "python",
   "nbconvert_exporter": "python",
   "pygments_lexer": "ipython3",
   "version": "3.11.7"
  }
 },
 "nbformat": 4,
 "nbformat_minor": 5
}
